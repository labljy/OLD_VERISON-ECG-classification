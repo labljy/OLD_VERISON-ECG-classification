{
 "cells": [
  {
   "cell_type": "code",
   "execution_count": 30,
   "metadata": {},
   "outputs": [],
   "source": [
    "import pandas as pd\n",
    "import numpy as np\n",
    "\n",
    "# open the big file\n",
    "#df_open = pd.read_csv(\"mitbih_test10.csv\", header=None)\n",
    "\n",
    "start=0\n",
    "chunk_size=10\n",
    "end = chunk_size\n",
    "count=0 # increment so not replacing itself\n",
    "\n",
    "# df_chunk = pd.read_csv(\"mitbih_test10.csv\", header=None, skiprows=490, nrows=10)\n",
    "# print(df_chunk)\n",
    "\n",
    "for x in range(0, len(df_open)):\n",
    "    if x%10 == 0:\n",
    "        #specify the rows\n",
    "        df_chunk = pd.read_csv(\"mitbih_test10.csv\", header=None, skiprows=start, nrows=chunk_size)\n",
    "        start += chunk_size\n",
    "#         print(start)\n",
    "#         print(end)\n",
    "#         print('---')\n",
    "        #export chunk\n",
    "        export_csv = df_chunk.to_csv(r'export_csv_'+str(count)+'.csv', index = None, header=None)\n",
    "        count+=1\n",
    "        \n",
    "        del df_chunk\n",
    "        del export_csv \n",
    "\n",
    "#testing\n",
    "# df_testnew = pd.read_csv(\"export_csv.csv\", header=None)\n",
    "# #arr = np.array(df_testnew[list(range(187))].values[0:13])[..., np.newaxis]\n",
    "# arr = np.array(df_testnew[list(range(187))].values)[..., np.newaxis]\n",
    "# pred_test = model.predict(arr)\n",
    "# pred_test = np.argmax(pred_test, axis=-1)\n",
    "\n",
    "# count=0\n",
    "# for x in pred_test:\n",
    "#     print(str(count)+' '+str(x))\n",
    "#     count+=1"
   ]
  },
  {
   "cell_type": "raw",
   "metadata": {},
   "source": []
  }
 ],
 "metadata": {
  "kernelspec": {
   "display_name": "Python 3",
   "language": "python",
   "name": "python3"
  },
  "language_info": {
   "codemirror_mode": {
    "name": "ipython",
    "version": 3
   },
   "file_extension": ".py",
   "mimetype": "text/x-python",
   "name": "python",
   "nbconvert_exporter": "python",
   "pygments_lexer": "ipython3",
   "version": "3.7.2"
  }
 },
 "nbformat": 4,
 "nbformat_minor": 2
}
